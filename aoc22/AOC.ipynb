{
 "cells": [
  {
   "cell_type": "code",
   "execution_count": 3,
   "id": "47f11229",
   "metadata": {
    "ExecuteTime": {
     "end_time": "2022-12-01T08:26:28.130043Z",
     "start_time": "2022-12-01T08:26:28.119971Z"
    },
    "scrolled": false
   },
   "outputs": [
    {
     "name": "stdout",
     "output_type": "stream",
     "text": [
      "71934\n",
      "211447\n"
     ]
    }
   ],
   "source": [
    "# day 1 of AOC 2022\n",
    "import itertools\n",
    "\n",
    "with open(\"day1.txt\", \"r\") as client_nums:\n",
    "    lines = client_nums.readlines()\n",
    "    lines = [line.rstrip() for line in lines]\n",
    "\n",
    "space = \"\"\n",
    "spl = [list(y) for x, y in itertools.groupby(lines, lambda z: z == space) if not x]\n",
    "sum_list = []\n",
    "\n",
    "for i in spl:\n",
    "    convert_int = [eval(j) for j in i]\n",
    "    sum_list.append(sum(convert_int))\n",
    "\n",
    "sorted_af = sorted(sum_list)\n",
    "print(sorted_af[-1]) # Part 1\n",
    "print(sorted_af[-1] + sorted_af[-2] + sorted_af[-3]) # Part 2"
   ]
  },
  {
   "cell_type": "code",
   "execution_count": null,
   "id": "e79ca74c",
   "metadata": {
    "ExecuteTime": {
     "end_time": "2022-12-01T07:25:38.946754Z",
     "start_time": "2022-12-01T07:25:38.941850Z"
    }
   },
   "outputs": [],
   "source": []
  },
  {
   "cell_type": "code",
   "execution_count": null,
   "id": "ebf850b7",
   "metadata": {},
   "outputs": [],
   "source": []
  },
  {
   "cell_type": "code",
   "execution_count": null,
   "id": "06caf379",
   "metadata": {},
   "outputs": [],
   "source": []
  }
 ],
 "metadata": {
  "kernelspec": {
   "display_name": "Python 3 (ipykernel)",
   "language": "python",
   "name": "python3"
  },
  "language_info": {
   "codemirror_mode": {
    "name": "ipython",
    "version": 3
   },
   "file_extension": ".py",
   "mimetype": "text/x-python",
   "name": "python",
   "nbconvert_exporter": "python",
   "pygments_lexer": "ipython3",
   "version": "3.10.8"
  },
  "varInspector": {
   "cols": {
    "lenName": 16,
    "lenType": 16,
    "lenVar": 40
   },
   "kernels_config": {
    "python": {
     "delete_cmd_postfix": "",
     "delete_cmd_prefix": "del ",
     "library": "var_list.py",
     "varRefreshCmd": "print(var_dic_list())"
    },
    "r": {
     "delete_cmd_postfix": ") ",
     "delete_cmd_prefix": "rm(",
     "library": "var_list.r",
     "varRefreshCmd": "cat(var_dic_list()) "
    }
   },
   "types_to_exclude": [
    "module",
    "function",
    "builtin_function_or_method",
    "instance",
    "_Feature"
   ],
   "window_display": false
  }
 },
 "nbformat": 4,
 "nbformat_minor": 5
}
