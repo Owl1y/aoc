{
 "cells": [
  {
   "cell_type": "code",
   "execution_count": 1,
   "id": "47f11229",
   "metadata": {
    "ExecuteTime": {
     "end_time": "2023-01-16T02:49:48.156611Z",
     "start_time": "2023-01-16T02:49:48.109586Z"
    },
    "scrolled": false
   },
   "outputs": [
    {
     "name": "stdout",
     "output_type": "stream",
     "text": [
      "71934\n",
      "211447\n"
     ]
    }
   ],
   "source": [
    "# day 1 of AOC 2022\n",
    "import itertools\n",
    "\n",
    "with open(\"day1.txt\", \"r\") as client_nums:\n",
    "    lines = client_nums.readlines()\n",
    "    lines = [line.rstrip() for line in lines]\n",
    "\n",
    "space = \"\"\n",
    "spl = [list(y) for x, y in itertools.groupby(lines, lambda z: z == space) if not x]\n",
    "sum_list = []\n",
    "\n",
    "for i in spl:\n",
    "    convert_int = [eval(j) for j in i]\n",
    "    sum_list.append(sum(convert_int))\n",
    "\n",
    "sorted_af = sorted(sum_list)\n",
    "print(sorted_af[-1]) # Part 1\n",
    "print(sorted_af[-1] + sorted_af[-2] + sorted_af[-3]) # Part 2"
   ]
<<<<<<< HEAD
=======
  },
  {
   "cell_type": "code",
<<<<<<< HEAD
   "execution_count": 71,
   "id": "d9125d5d",
   "metadata": {
    "ExecuteTime": {
     "end_time": "2022-12-02T06:44:48.425698Z",
     "start_time": "2022-12-02T06:44:48.417319Z"
    },
    "scrolled": true
   },
   "outputs": [
    {
     "name": "stdout",
     "output_type": "stream",
     "text": [
      "6\n"
     ]
    }
   ],
   "source": [
    "# Day 2 of AOC 2022\n",
    "\n",
    "# A and X rock\n",
    "# B and Y paper\n",
    "# C and Z scissors\n",
    "# (0 if you lost, 3 if the round was a draw, and 6 if you won).\n",
    "# (1 for Rock, 2 for Paper, and 3 for Scissors)\n",
    "\n",
    "with open(\"test2.txt\", \"r\") as client_nums:\n",
    "    lines2 = client_nums.readlines()\n",
    "    lines2 = [line.rstrip() for line in lines2]\n",
    "\n",
    "\n",
    "compare = {\n",
    "    'A': 3,\n",
    "    'B': 2,\n",
    "    'C': 1, \n",
    "    'X': 3,\n",
    "    'Y': 2,\n",
    "    'Z': 1,\n",
    "}\n",
    "\n",
    "value = {\n",
    "    'A': 1, # rock\n",
    "    'B': 2,# paper\n",
    "    'C': 3, # scissors\n",
    "    'X': 1,# rock\n",
    "    'Y': 2,# paper\n",
    "    'Z': 3,# scissors\n",
    "}\n",
    "total_count = 0\n",
    "\n",
    "for j in range((len(lines2))):\n",
    "    opp, you = map(str, lines2[j].split(' '))\n",
    "    #print(total_count)\n",
    "    #print(opp,you)\n",
    "    \n",
    "    if compare[opp] == compare[you]:\n",
    "        total_count = total_count + 3 + value[you]\n",
    "        #print(total_count)\n",
    "    elif (compare[opp] == 'A') and (compare[you] == 'Y'):\n",
    "        total_count = total_count + 6 + value[you]\n",
    "    elif (compare[opp] == 'A') and (compare[you] == 'Z'):\n",
    "        total_count = total_count + 0 + value[you]\n",
    "    elif (compare[opp] == 'B') and (compare[you] == 'X'):\n",
    "        total_count = total_count + 0 + value[you]\n",
    "    elif (compare[opp] == 'B') and (compare[you] == 'Z'):\n",
    "        total_count = total_count + 6 + value[you]\n",
    "    elif (compare[opp] == 'C') and (compare[you] == 'X'):\n",
    "        total_count = total_count + 6 + value[you]\n",
    "    elif (compare[opp] == 'C') and (compare[you] == 'Y'):\n",
    "        total_count = total_count + 0 + value[you]\n",
    "        \n",
    "    #print(total_count)\n",
    "\n",
    "print(total_count)\n",
    "# not 15358, 15934, 9700, 10276, 7755, 4312"
   ]
=======
   "execution_count": null,
   "id": "e79ca74c",
   "metadata": {
    "ExecuteTime": {
     "end_time": "2022-12-01T07:25:38.946754Z",
     "start_time": "2022-12-01T07:25:38.941850Z"
    }
   },
   "outputs": [],
   "source": []
  },
  {
   "cell_type": "code",
   "execution_count": null,
   "id": "ebf850b7",
   "metadata": {},
   "outputs": [],
   "source": []
>>>>>>> 9a8f185d29e8bebce20dbc2d5948d649746816bd
  },
  {
   "cell_type": "code",
   "execution_count": null,
   "id": "06caf379",
   "metadata": {},
   "outputs": [],
   "source": [
    "\n",
    "A Y\n",
    "A Z\n",
    "B X\n",
    "\n",
    "B Z\n",
    "C X\n",
    "C Y\n"
   ]
  },
  {
   "cell_type": "code",
   "execution_count": null,
   "id": "0b2053ec",
   "metadata": {},
   "outputs": [],
   "source": []
>>>>>>> caa99d2ef4ca62396135f7676798042dda221d49
  }
 ],
 "metadata": {
  "kernelspec": {
   "display_name": "Python 3 (ipykernel)",
   "language": "python",
   "name": "python3"
  },
  "language_info": {
   "codemirror_mode": {
    "name": "ipython",
    "version": 3
   },
   "file_extension": ".py",
   "mimetype": "text/x-python",
   "name": "python",
   "nbconvert_exporter": "python",
   "pygments_lexer": "ipython3",
   "version": "3.10.9"
  },
  "varInspector": {
   "cols": {
    "lenName": 16,
    "lenType": 16,
    "lenVar": 40
   },
   "kernels_config": {
    "python": {
     "delete_cmd_postfix": "",
     "delete_cmd_prefix": "del ",
     "library": "var_list.py",
     "varRefreshCmd": "print(var_dic_list())"
    },
    "r": {
     "delete_cmd_postfix": ") ",
     "delete_cmd_prefix": "rm(",
     "library": "var_list.r",
     "varRefreshCmd": "cat(var_dic_list()) "
    }
   },
   "types_to_exclude": [
    "module",
    "function",
    "builtin_function_or_method",
    "instance",
    "_Feature"
   ],
   "window_display": false
  }
 },
 "nbformat": 4,
 "nbformat_minor": 5
}
